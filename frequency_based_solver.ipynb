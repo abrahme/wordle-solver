{
 "cells": [
  {
   "cell_type": "markdown",
   "id": "10a73ec1",
   "metadata": {},
   "source": [
    "# Frequency Based Solver\n",
    "The first iteration of this solver is using position based letter frequencies to determine the next best guess in a game of Wordle. The idea is that the best word to guess is the word remaining that is most likely to occur based on how often certain letters appear. It is agnostic of the green, yellow, and grey letters right now, and is only using the information from filtering the database (so indirectly affecting).\n",
    "\n",
    "From any given database, do guesses converge here? \n",
    "\n",
    "To-Do\n",
    "-> better metric for 'best word', need to calculate the stats on the max freq score (mean, stdev) and maybe recommend several words that are in close scor, but this is first attempt. "
   ]
  },
  {
   "cell_type": "code",
   "execution_count": 1,
   "id": "feed20bb",
   "metadata": {},
   "outputs": [],
   "source": [
    "from utils.utils import english_dictionary\n",
    "import numpy as np"
   ]
  },
  {
   "cell_type": "code",
   "execution_count": 2,
   "id": "c36a4213",
   "metadata": {},
   "outputs": [],
   "source": [
    "#initialize the dictionary as a numpy array for no reason right now other than I'm familiar with the indexing\n",
    "dic=np.asarray(english_dictionary)"
   ]
  },
  {
   "cell_type": "code",
   "execution_count": 3,
   "id": "e26698ed",
   "metadata": {},
   "outputs": [],
   "source": [
    "#first let's build code that generates the statistics for our dictionary \n",
    "#initalize letters array\n",
    "letters=np.asarray([\"a\", \"b\", \"c\", \"d\", \"e\", \"f\", \"g\", \"h\", \"i\", \"j\", \"k\", \"l\", \"m\", \"n\",\"o\", \"p\", \"q\", \"r\", \"s\", \"t\", \"u\", \"v\", \"w\", \"x\", \"y\", \"z\"])"
   ]
  },
  {
   "cell_type": "code",
   "execution_count": 4,
   "id": "2f334b73",
   "metadata": {},
   "outputs": [],
   "source": [
    "letter_frequency=np.zeros([5,26]) #i decided to just start with the most sophisticated method which is considering letter frequency at each position \n",
    "for i in dic:\n",
    "    for j in np.arange(len(i)):\n",
    "        letter_frequency[j,np.where(i[j] == letters)] +=1 \n",
    "        \n",
    "        "
   ]
  },
  {
   "cell_type": "markdown",
   "id": "991f819c",
   "metadata": {},
   "source": [
    "Now that we have letter frequency by position, we need to build a probabilistic model that calculates given a database of word, what is the 'frequency score'\n",
    "\n",
    "In other words, what words provide the MOST information? we can calculate this easily by calculating simple 'score' that is the sum of all frequencies."
   ]
  },
  {
   "cell_type": "code",
   "execution_count": 5,
   "id": "4f2951d3",
   "metadata": {},
   "outputs": [],
   "source": [
    "def word_scorer(word_list):\n",
    "    scores_array=[]\n",
    "    for i in word_list:\n",
    "        total_score=0\n",
    "        for j in np.arange(len(i)):\n",
    "            letter_score=letter_frequency[j,np.where(i[j] == letters)]\n",
    "            total_score=total_score+letter_score\n",
    "        scores_array.append(total_score)\n",
    "    best_word_index=np.argmax(scores_array)\n",
    "    return word_list[best_word_index]"
   ]
  },
  {
   "cell_type": "code",
   "execution_count": 6,
   "id": "17e0bc7b",
   "metadata": {},
   "outputs": [
    {
     "name": "stdout",
     "output_type": "stream",
     "text": [
      "The best word right now is sores\n"
     ]
    }
   ],
   "source": [
    "output=word_scorer(dic)\n",
    "\n",
    "print(f'The best word right now is {output}')"
   ]
  },
  {
   "cell_type": "markdown",
   "id": "abd0e51c",
   "metadata": {},
   "source": [
    "Ta-dah! So after initalizing the two arrays letter_frequency and letters, we can easily compute the \"best\" word. First attempt at some intuitive solver! \n",
    "\n",
    "We would simply call word_scorer based on the available words (the output after filtering) "
   ]
  }
 ],
 "metadata": {
  "kernelspec": {
   "display_name": "Python 3",
   "language": "python",
   "name": "python3"
  },
  "language_info": {
   "codemirror_mode": {
    "name": "ipython",
    "version": 3
   },
   "file_extension": ".py",
   "mimetype": "text/x-python",
   "name": "python",
   "nbconvert_exporter": "python",
   "pygments_lexer": "ipython3",
   "version": "3.8.8"
  }
 },
 "nbformat": 4,
 "nbformat_minor": 5
}
